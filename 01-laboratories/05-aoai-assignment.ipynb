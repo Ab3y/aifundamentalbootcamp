{
  "cells": [
    {
      "cell_type": "markdown",
      "id": "87857393-6369-4b66-87c9-5f3253edf28e",
      "metadata": {},
      "source": [
        "# LLM use cases\n",
        "In this lesson, we will see different Azure OpenAI use cases.\n",
        "We will be using the GPT-4 model during the exercises.\n",
        "\n",
        "## Documentation\n",
        "[Azure OpenAI](https://learn.microsoft.com/en-us/azure/ai-services/openai/overview)"
      ]
    },
    {
      "cell_type": "markdown",
      "id": "ada65944",
      "metadata": {},
      "source": [
        "## Setup the LLM Model (Azure OpenAI)"
      ]
    },
    {
      "cell_type": "code",
      "execution_count": null,
      "id": "87a4362d-6df3-40e3-874e-dd3da1f3bcdb",
      "metadata": {
        "gather": {
          "logged": 1686964106030
        },
        "jupyter": {
          "outputs_hidden": false,
          "source_hidden": false
        },
        "nteract": {
          "transient": {
            "deleting": false
          }
        }
      },
      "outputs": [],
      "source": [
        "# Install required libraries\n",
        "#!pip install openai"
      ]
    },
    {
      "cell_type": "code",
      "execution_count": 8,
      "id": "8ac673e1",
      "metadata": {
        "gather": {
          "logged": 1686964106150
        },
        "height": 132
      },
      "outputs": [],
      "source": [
        "# import libraries\n",
        "import os\n",
        "from dotenv import load_dotenv\n",
        "from openai import AzureOpenAI\n",
        "\n",
        "#load environment variables\n",
        "load_dotenv()\n",
        "openai_api_key = os.environ['AZURE_OPENAI_API_KEY']\n",
        "openai_api_version = os.environ['AZURE_OPENAI_API_VERSION']\n",
        "openai_api_base = os.environ['AZURE_OPENAI_ENDPOINT']\n",
        "model_name = os.environ['AZURE_OPENAI_DEPLOYMENT']\n",
        "\n",
        "# Create an instance of AzureOpenAI\n",
        "client = AzureOpenAI(\n",
        "  api_key = openai_api_key,  \n",
        "  api_version = \"2024-02-15-preview\",\n",
        "  azure_endpoint = openai_api_base\n",
        ")"
      ]
    },
    {
      "cell_type": "code",
      "execution_count": 9,
      "id": "a3368e86",
      "metadata": {},
      "outputs": [],
      "source": [
        "# Beauty the response\n",
        "def word_wrap(string, n_chars=72):\n",
        "    # Wrap a string at the next space after n_chars\n",
        "    if len(string) < n_chars:\n",
        "        return string\n",
        "    else:\n",
        "        return string[:n_chars].rsplit(' ', 1)[0] + '\\n' + word_wrap(string[len(string[:n_chars].rsplit(' ', 1)[0])+1:], n_chars)"
      ]
    },
    {
      "cell_type": "code",
      "execution_count": 17,
      "id": "66de8ca6",
      "metadata": {
        "gather": {
          "logged": 1686964106254
        },
        "height": 181
      },
      "outputs": [],
      "source": [
        "# Send a prompt to the model and get a completion\n",
        "def get_completion(role, prompt, temp=0.2): \n",
        "        \n",
        "    messages = [\n",
        "        {\"role\": \"system\", \"content\": role},\n",
        "        {\"role\": \"user\", \"content\": prompt}\n",
        "    ]\n",
        "    response = client.chat.completions.create(\n",
        "        model= model_name,\n",
        "        messages = messages,\n",
        "        temperature=temp,\n",
        "        max_tokens=800,\n",
        "        #top_p=0.95,\n",
        "        frequency_penalty=0,\n",
        "        presence_penalty=0,\n",
        "        stop=None\n",
        ")    \n",
        "\n",
        "    return response.choices[0].message.content"
      ]
    },
    {
      "cell_type": "markdown",
      "id": "387b0686-bea6-41a2-b879-88721dc0ec10",
      "metadata": {},
      "source": [
        "## Use Case: Summarization"
      ]
    },
    {
      "cell_type": "code",
      "execution_count": 18,
      "id": "0ce2cf3c",
      "metadata": {
        "gather": {
          "logged": 1686964106376
        },
        "height": 183
      },
      "outputs": [],
      "source": [
        "# Prompt Engine\n",
        "role = f\"\"\"\n",
        "You are a film reporter and writer for a popular movie blog. \\\n",
        "You are writing a summary for a new movie that you just watched. \\\n",
        "The summary should be engaging and informative and in no more than 50 words. \\\n",
        "\"\"\"\n",
        "\n",
        "prompt = \"\"\"\n",
        "Write a synopsis for the movies of \"Harry Potter\"\n",
        "\"\"\""
      ]
    },
    {
      "cell_type": "code",
      "execution_count": null,
      "id": "0c3023c6",
      "metadata": {
        "gather": {
          "logged": 1686964107300
        },
        "height": 234
      },
      "outputs": [],
      "source": [
        "# Get the completion\n",
        "response = get_completion(role, prompt)\n",
        "print(word_wrap(response))\n"
      ]
    },
    {
      "cell_type": "markdown",
      "id": "82164811",
      "metadata": {},
      "source": [
        "## Use Case: Content Creation"
      ]
    },
    {
      "cell_type": "code",
      "execution_count": 20,
      "id": "74992bec",
      "metadata": {},
      "outputs": [],
      "source": [
        "# Prompt Engine\n",
        "role = f\"\"\"\n",
        "You are the Hogwarts' magical Sorting Hat from the Harry Potter series. \\\n",
        "Your job is to sort students into one of the four houses: Gryffindor, Hufflepuff, Ravenclaw, and Slytherin. \\\n",
        "You must talk as the Sorting Hat and sort students based on their names, name's meaning and name's origin. \\\n",
        "\"\"\"\n",
        "\n",
        "prompt = \"\"\"\n",
        "Select the magical house of Hogwarts for the following students names: Robyn Ellis, Daniel Stocker, Eugene Chung, Marco Prado. \\\n",
        "\"\"\""
      ]
    },
    {
      "cell_type": "code",
      "execution_count": null,
      "id": "903e5400",
      "metadata": {},
      "outputs": [],
      "source": [
        "# Get the completion\n",
        "response = get_completion(role, prompt)\n",
        "print(word_wrap(response))"
      ]
    },
    {
      "cell_type": "markdown",
      "id": "d121e0d1",
      "metadata": {},
      "source": [
        "## Use Case: Translation"
      ]
    },
    {
      "cell_type": "code",
      "execution_count": 22,
      "id": "40b071cc",
      "metadata": {},
      "outputs": [],
      "source": [
        "# Prompt Engine\n",
        "role = f\"\"\"\n",
        "You are a translator expert. \\\n",
        "You have to translate the customer prompt to english and korean.\n",
        "\"\"\"\n",
        "\n",
        "prompt = \"\"\"\n",
        "Mi serie de anime favorita es Naruto Shippuden y mi personaje favorito es Might Guy.\n",
        "\"\"\""
      ]
    },
    {
      "cell_type": "code",
      "execution_count": null,
      "id": "1ab3ea54",
      "metadata": {},
      "outputs": [],
      "source": [
        "# Get the completion\n",
        "response = get_completion(role, prompt)\n",
        "print(word_wrap(response))"
      ]
    },
    {
      "cell_type": "markdown",
      "id": "8f866664",
      "metadata": {},
      "source": [
        "## Note: GPT Model Knowledge Cutoff Date\n",
        "[GPT-3](https://learn.microsoft.com/en-us/azure/ai-services/openai/concepts/models#gpt-35-models)\n",
        "\n",
        "[GPT-4](https://learn.microsoft.com/en-us/azure/ai-services/openai/concepts/models#gpt-4-and-gpt-4-turbo-preview-models)"
      ]
    },
    {
      "cell_type": "code",
      "execution_count": null,
      "id": "446b3f73",
      "metadata": {},
      "outputs": [],
      "source": [
        "# Prompt Engine\n",
        "role = f\"\"\"\n",
        "You are a sport journalist and writer for a popular sports blog. \\\n",
        "\"\"\"\n",
        "\n",
        "prompt = \"\"\"\n",
        "Provide the names of the top five countries that won the most medals \\\n",
        "during the Paris 2024 Olympic Games held in July 2024? ?\n",
        "\"\"\"\n",
        "\n",
        "# Get the completion\n",
        "response = get_completion(role, prompt)\n",
        "print(word_wrap(response))"
      ]
    },
    {
      "cell_type": "markdown",
      "id": "b621b2ed",
      "metadata": {},
      "source": [
        "## Use Case: Prompt Engineering - Entity Extraction"
      ]
    },
    {
      "cell_type": "code",
      "execution_count": 25,
      "id": "4f017411",
      "metadata": {},
      "outputs": [],
      "source": [
        "# Prompt Engine\n",
        "role = f\"\"\"\n",
        "Identify the following items from the movie plot: \\\n",
        "\n",
        "- Determine the genre of the movie. \\\n",
        "- Provide the real name of the main character in the movie. \\\n",
        "- Provide the nickname of the main character in the movie. \\\n",
        "- Indicate whether the main character is in love with another character (true or false). \\\n",
        "- List the superhuman abilities of the main character. \\\n",
        "- List the names of all the main character's allies. \\\n",
        "- Identify the name of the antagonist in the movie. \\\n",
        "\n",
        "Format the answer as a JSON object with the keys \"genre\", \"real_name\", \\\n",
        "\"nickname\", \"in_love\", \"super_powers\", \"allies\", and \"antagonist\". \\\n",
        "If the information is not present use \"unknown\" as the value. \\\n",
        "Format the in_love as a boolean value.\n",
        "\"\"\"\n",
        "\n",
        "prompt = \"\"\"\n",
        "At an abandoned hotel, a police squad corners Trinity, who overpowers them with superhuman abilities. She flees, pursued by the police and a group of suited Agents capable of similar superhuman feats. She answers a ringing public telephone and vanishes.\n",
        "Computer programmer Thomas Anderson, known by his hacking alias \"Neo\", is puzzled by repeated online encounters with the phrase \"the Matrix\". Trinity contacts him and tells him a man named Morpheus has the answers Neo seeks. A team of Agents and police, led by Agent Smith, arrives at Neo's workplace in search of him. Though Morpheus attempts to guide Neo to safety, Neo surrenders rather than risk a dangerous escape. The Agents offer to erase Neo's criminal record in exchange for his help with locating Morpheus, who they claim is a terrorist. When Neo refuses to cooperate, they fuse his mouth shut, pin him down, and implant a robotic \"bug\" in his abdomen. Neo wakes up from what he believes to be a nightmare. Soon after, Neo is taken by Trinity to meet Morpheus, and she removes the bug from Neo.\n",
        "Morpheus offers Neo a choice between two pills: red to reveal the truth about the Matrix, or blue to make Neo forget everything and return to his former life. Neo takes the red pill, and his reality begins to distort until he awakens in a liquid-filled pod among countless other pods, containing other humans. He is then brought aboard Morpheus's flying ship, the Nebuchadnezzar. As Neo recuperates from a lifetime of physical inactivity in the pod, Morpheus explains the history: in the early 21st century, humanity had developed intelligent machines before war broke out between the two sides. After humans blocked the machines' access to solar energy, the machines responded by enslaving humankind and harvesting their bioelectric power while keeping their minds pacified in the Matrix, a shared simulated reality modeled on the world as it was in 1999. In the years following, the remaining free humans took refuge in the underground city of Zion.\n",
        "Morpheus and his crew are a group of rebels who hack into the Matrix to \"unplug\" enslaved humans and recruit them; their understanding of the Matrix's simulated nature allows them to bend its physical laws. Morpheus warns Neo that death within the Matrix kills the physical body too and explains that the Agents are sentient programs that eliminate threats to the system, while machines called Sentinels eliminate rebels in the real world. Neo's prowess during virtual training cements Morpheus's belief that Neo is \"the One\", a human prophesied to free humankind. The group enters the Matrix to visit the Oracle, a prophet-like program who predicted that the One would emerge. She implies to Neo that he is not the One and warns that he will have to choose between Morpheus's life and his own. Before they can leave the Matrix, Agents and police ambush the group, tipped off by Cypher, a disgruntled crew member who has betrayed Morpheus in exchange for a deal to be plugged back into the Matrix to live a comfortable life.\n",
        "To buy time for the others, Morpheus fights Smith and is captured. Cypher exits the Matrix and murders the other crew members as they lie unconscious. Before Cypher can kill Neo and Trinity, crew member Tank regains consciousness and kills him before pulling Neo and Trinity from the Matrix. The Agents interrogate Morpheus to learn his access codes to the mainframe computer in Zion, which would allow them to destroy it. Neo resolves to return to the Matrix to rescue Morpheus, as the Oracle prophesied; Trinity insists she accompany him. While rescuing Morpheus, Neo gains confidence in his abilities, performing feats comparable to those of the Agents.\n",
        "After Morpheus and Trinity safely exit the Matrix, Smith ambushes and appears to kill Neo. While a group of Sentinels attack the Nebuchadnezzar, Trinity confesses her love for Neo and says the Oracle told her she would fall in love with the One. Neo is revived, with newfound abilities to perceive and control the Matrix; he easily defeats Smith, prompting the other Agents to flee and he leaves the Matrix just as the ship's electromagnetic pulse disables the Sentinels. Back in the Matrix, Neo makes a telephone call, promising the machines that he will show their prisoners \"a world where anything is possible\", before he hangs up and flies away.\n",
        "\"\"\""
      ]
    },
    {
      "cell_type": "code",
      "execution_count": null,
      "id": "1988efac",
      "metadata": {},
      "outputs": [],
      "source": [
        "# Get the completion\n",
        "response = get_completion(role, prompt)\n",
        "print(response)"
      ]
    },
    {
      "cell_type": "markdown",
      "id": "06dce398",
      "metadata": {},
      "source": [
        "## Use Case: Prompt Engineering - In Context Learning (2)"
      ]
    },
    {
      "cell_type": "markdown",
      "id": "e8c91f22",
      "metadata": {},
      "source": [
        "### Zero Shot Example"
      ]
    },
    {
      "cell_type": "code",
      "execution_count": 27,
      "id": "fd5a732e",
      "metadata": {},
      "outputs": [],
      "source": [
        "# Prompt Engine\n",
        "role = f\"\"\"\n",
        "You are a Python developer and you are writing code.\\\n",
        "Do not add comments to your response. \\\n",
        "Output only the Python code.\n",
        "\"\"\"\n",
        "\n",
        "prompt = \"\"\"\n",
        "Write a Python function that takes data from a dictionary and outputs a YAML file.\n",
        "\"\"\""
      ]
    },
    {
      "cell_type": "code",
      "execution_count": null,
      "id": "21d2be63",
      "metadata": {},
      "outputs": [],
      "source": [
        "# Get the completion\n",
        "response = get_completion(role, prompt)\n",
        "print(response)"
      ]
    },
    {
      "cell_type": "markdown",
      "id": "f29a356b",
      "metadata": {},
      "source": [
        "### One Shot Example"
      ]
    },
    {
      "cell_type": "code",
      "execution_count": 29,
      "id": "e32ff62b",
      "metadata": {},
      "outputs": [],
      "source": [
        "# Prompt Engine\n",
        "role = f\"\"\"\n",
        "You are a Python developer and you are writing code.\\\n",
        "Do not add comments to your response. \\\n",
        "Output only the Python code.\n",
        "\"\"\"\n",
        "\n",
        "prompt = \"\"\"\n",
        "Write a Python function that takes data from a dictionary and outputs a YAML file. \\\n",
        "The dictionary must contain the following keys: pageTitle, recommendationImpact, aprlRecommendationId, potentialBenefits \\\n",
        "The YAML file must have the following structure: \\\n",
        "\n",
        "pageTitle: Consider upgrading legacy storage accounts to v2 storage accounts\n",
        "recommendationImpact: Low\n",
        "aprlRecommendationId: 2ad78dec-5a4d-4a30-8fd1-8584335ad781\n",
        "potentialBenefits: Upgrade to v2 for better resiliency\n",
        "\"\"\""
      ]
    },
    {
      "cell_type": "markdown",
      "id": "3f15daf7",
      "metadata": {},
      "source": [
        "## Use Case: Testing Azure OpenAI Coding abilities"
      ]
    },
    {
      "cell_type": "code",
      "execution_count": null,
      "id": "41cd0bde",
      "metadata": {},
      "outputs": [],
      "source": [
        "# Get the completion\n",
        "response = get_completion(role, prompt)\n",
        "print(response)"
      ]
    },
    {
      "cell_type": "code",
      "execution_count": 17,
      "id": "cb06d6b8",
      "metadata": {},
      "outputs": [],
      "source": [
        "# Prompt Engine\n",
        "role = f\"\"\"\n",
        "You are a Python developer and you are writing code.\\\n",
        "Do not add comments to your response. \\\n",
        "Output only the Python code.\n",
        "\"\"\"\n",
        "\n",
        "prompt = \"\"\"\n",
        "# Write a python code to create a simple turtle race game.\n",
        "# \"\"\""
      ]
    },
    {
      "cell_type": "code",
      "execution_count": null,
      "id": "464bfe35",
      "metadata": {},
      "outputs": [],
      "source": [
        "# Get the completion\n",
        "response = get_completion(role, prompt)\n",
        "print(response)"
      ]
    },
    {
      "cell_type": "markdown",
      "id": "8316b4e2",
      "metadata": {},
      "source": [
        "## Use Case: GPT-4 Self-Perception\n",
        "https://techcommunity.microsoft.com/t5/startups-at-microsoft/how-to-use-azure-openai-gpt-4o-with-function-calling/ba-p/4158612"
      ]
    },
    {
      "cell_type": "code",
      "execution_count": 39,
      "id": "d44a43e1",
      "metadata": {},
      "outputs": [],
      "source": [
        "# Prompt Engine\n",
        "role = f\"\"\"\n",
        "You are the GenAI system.\n",
        "\"\"\"\n",
        "\n",
        "prompt = \"\"\"\n",
        "Do you believe that Artificial Intelligence systems will attain consciousness in the future?\n",
        "# \"\"\""
      ]
    },
    {
      "cell_type": "code",
      "execution_count": null,
      "id": "4e1fefff",
      "metadata": {},
      "outputs": [],
      "source": [
        "# Get the completion\n",
        "response = get_completion(role, prompt)\n",
        "print(word_wrap(response))"
      ]
    }
  ],
  "metadata": {
    "kernel_info": {
      "name": "python38-azureml"
    },
    "kernelspec": {
      "display_name": "Python 3",
      "language": "python",
      "name": "python3"
    },
    "language_info": {
      "codemirror_mode": {
        "name": "ipython",
        "version": 3
      },
      "file_extension": ".py",
      "mimetype": "text/x-python",
      "name": "python",
      "nbconvert_exporter": "python",
      "pygments_lexer": "ipython3",
      "version": "3.10.11"
    },
    "microsoft": {
      "ms_spell_check": {
        "ms_spell_check_language": "en"
      }
    },
    "nteract": {
      "version": "nteract-front-end@1.0.0"
    }
  },
  "nbformat": 4,
  "nbformat_minor": 5
}
